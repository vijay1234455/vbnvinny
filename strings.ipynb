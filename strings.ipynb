{
  "nbformat": 4,
  "nbformat_minor": 0,
  "metadata": {
    "colab": {
      "name": "Untitled1.ipynb",
      "provenance": [],
      "collapsed_sections": [],
      "authorship_tag": "ABX9TyNxb/z+NB72KUkCNTXee9XN",
      "include_colab_link": true
    },
    "kernelspec": {
      "name": "python3",
      "display_name": "Python 3"
    },
    "language_info": {
      "name": "python"
    }
  },
  "cells": [
    {
      "cell_type": "markdown",
      "metadata": {
        "id": "view-in-github",
        "colab_type": "text"
      },
      "source": [
        "<a href=\"https://colab.research.google.com/github/vijay1234455/vbnvinny/blob/main/strings.ipynb\" target=\"_parent\"><img src=\"https://colab.research.google.com/assets/colab-badge.svg\" alt=\"Open In Colab\"/></a>"
      ]
    },
    {
      "cell_type": "code",
      "metadata": {
        "id": "i6FJO9PTR5R7"
      },
      "source": [
        "#@title Default title text\n",
        "'''Datatype is which refers to the what type of data going to be stored by the variable\n",
        "Ex: int x=2,here x is stores only values of the integer type\n",
        "In python we no need to bother about datatype declaration,python automatically take care of it'''"
      ],
      "execution_count": null,
      "outputs": []
    },
    {
      "cell_type": "code",
      "metadata": {
        "id": "w6Ph0JnZWAAz"
      },
      "source": [
        "#In python we can find the datatype of any variable by using function \"type()\" function"
      ],
      "execution_count": null,
      "outputs": []
    },
    {
      "cell_type": "code",
      "metadata": {
        "id": "iP051CTQSvMM"
      },
      "source": [
        "#integer datatype\n",
        "x=2\n",
        "print(\"value of x\",x)\n",
        "print(\"type of value\",type(x))\n"
      ],
      "execution_count": null,
      "outputs": []
    },
    {
      "cell_type": "code",
      "metadata": {
        "id": "H9gmnXIkT0xS"
      },
      "source": [
        "#float datatype\n",
        "k=1.24\n",
        "print(\"value of k\",k)\n",
        "print(\"type of value\",type(k))"
      ],
      "execution_count": null,
      "outputs": []
    },
    {
      "cell_type": "code",
      "metadata": {
        "id": "RpcsGltkUEOh"
      },
      "source": [
        "#complex datatype\n",
        "y=1+2j\n",
        "print(\"value of y\",y)\n",
        "print(\"type of value\",type(y))\n",
        "x=2j\n",
        "print(\"value of x\",x)\n",
        "print(\"type of value\",type(x))"
      ],
      "execution_count": null,
      "outputs": []
    },
    {
      "cell_type": "code",
      "metadata": {
        "id": "vX-_o0HM2Bvz"
      },
      "source": [
        "STRINGS IN PYTHON"
      ],
      "execution_count": null,
      "outputs": []
    },
    {
      "cell_type": "code",
      "metadata": {
        "id": "x5KigLheUEAF"
      },
      "source": [
        "'''String:\n",
        "    In python string is defined as the group of characters surrounded by either single quotes or double quotes\n",
        "    Ex: k=\"vijay\"\n",
        "        x='vijay' both are strings\n",
        "        '''\n",
        "x='vijay'\n",
        "print(x)\n",
        "print(\"type of x is\",type(x))\n",
        "\n",
        "y=\"Vijay\"\n",
        "print(x)\n",
        "print(\"type of y is\",type(y))"
      ],
      "execution_count": null,
      "outputs": []
    },
    {
      "cell_type": "code",
      "metadata": {
        "id": "i59C97SL42wy"
      },
      "source": [
        ""
      ],
      "execution_count": null,
      "outputs": []
    },
    {
      "cell_type": "code",
      "metadata": {
        "id": "HVoCwBvqW1yI"
      },
      "source": [
        "''' We can perform some string operations\n",
        "    1.string concatenation\n",
        "    2.string repeatition\n",
        "    '''\n",
        "x=\"vijay\"\n",
        "y=\"bujjigalla\"\n",
        "print(x+y)\n"
      ],
      "execution_count": null,
      "outputs": []
    },
    {
      "cell_type": "code",
      "metadata": {
        "id": "megKqYocXzEH"
      },
      "source": [
        "x='vijay'\n",
        "print(x*2)  # it repeats the string two times\n",
        "print(x*3)   #It repeats the string three tinmes\n",
        "\n"
      ],
      "execution_count": null,
      "outputs": []
    },
    {
      "cell_type": "code",
      "metadata": {
        "id": "VJ3z_JUtYPRX"
      },
      "source": [
        "x=str()  # we create string using function str()\n",
        "print(type(x))\n",
        "x=23\n",
        "print(x)\n"
      ],
      "execution_count": null,
      "outputs": []
    },
    {
      "cell_type": "code",
      "metadata": {
        "id": "C7P3dn3SydbE"
      },
      "source": [
        "'''ACCESSING ELMENTS OF STRING'''\n",
        "#indexing----Accessing single element at a time\n",
        "#index is always start from 0(zero)\n",
        "#slicing-----Extracting more than one element at a time\n"
      ],
      "execution_count": null,
      "outputs": []
    },
    {
      "cell_type": "code",
      "metadata": {
        "colab": {
          "base_uri": "https://localhost:8080/"
        },
        "id": "dWRxDkl4zXfY",
        "outputId": "76755a0b-6a4d-4ee9-d465-4d50d7ab8a11"
      },
      "source": [
        "#indexing \n",
        "x=\"VIJAY\"\n",
        "print(x[0])\n",
        "print(x[1])\n",
        "#negative indexing is starts from right side of the string\n",
        "\n",
        "print(x[-1])\n",
        "print(x[-2])\n"
      ],
      "execution_count": 68,
      "outputs": [
        {
          "output_type": "stream",
          "name": "stdout",
          "text": [
            "V\n",
            "I\n",
            "Y\n",
            "A\n"
          ]
        }
      ]
    },
    {
      "cell_type": "code",
      "metadata": {
        "colab": {
          "base_uri": "https://localhost:8080/"
        },
        "id": "AARKTny3z9do",
        "outputId": "7ca1abcf-5a1d-4b3e-8dd3-f3a3469cdf37"
      },
      "source": [
        "#slicing----->[start:end:step]\n",
        "x=\"IIIT-RKVALLEY\"\n",
        "k=x[2:5]\n",
        "print(k)\n",
        "k=x[:4]\n",
        "print(k)\n",
        "k=x[5:]\n",
        "print(k)\n",
        "\n",
        "k=x[5:12:2]\n",
        "print(k)\n"
      ],
      "execution_count": 76,
      "outputs": [
        {
          "output_type": "stream",
          "name": "stdout",
          "text": [
            "IT-\n",
            "IIIT\n",
            "RKVALLEY\n",
            "RVLE\n"
          ]
        }
      ]
    },
    {
      "cell_type": "code",
      "metadata": {
        "id": "oX0aohR8yiRK"
      },
      "source": [
        ""
      ],
      "execution_count": null,
      "outputs": []
    },
    {
      "cell_type": "code",
      "metadata": {
        "id": "xuxVns6lZ8t2"
      },
      "source": [
        "'''Built-in functions in strings\n",
        "  What is the meaning of built-in functions,it means these functions are already predefined in python'''"
      ],
      "execution_count": null,
      "outputs": []
    },
    {
      "cell_type": "code",
      "metadata": {
        "id": "hE5SMoo_at9e"
      },
      "source": [
        "#title():which returns the string with every first character of word in uppercase \n",
        "x='vijay from rkvalley'\n",
        "x=x.title()\n",
        "print(x)"
      ],
      "execution_count": null,
      "outputs": []
    },
    {
      "cell_type": "code",
      "metadata": {
        "id": "Cfn7B6UjcM7C"
      },
      "source": [
        "#upper():which returns the string with all uppercase letters\n",
        "x='vijay'\n",
        "x=x.upper()\n",
        "print(x)"
      ],
      "execution_count": null,
      "outputs": []
    },
    {
      "cell_type": "code",
      "metadata": {
        "id": "Q5Z-IL22ck5B"
      },
      "source": [
        "#lower():which returns the string with all lowercase letter\n",
        "x='VIJAY'\n",
        "x=x.lower()\n",
        "print(x)"
      ],
      "execution_count": null,
      "outputs": []
    },
    {
      "cell_type": "code",
      "metadata": {
        "id": "mtuMXnlxc67q"
      },
      "source": [
        "#count(substring,start_index,end_index):It returns the occurrence of the substring in the given range.\n",
        "#count(substring):It counts the substring occurrence from 0 index to last index\n",
        "\n",
        "x=\"vijay is vijay\"\n",
        "c=x.count(\"vijay\",0,6)   # in the given range \n",
        "print(\"occurrence of the substring-->\",c)\n",
        "\n",
        "c=x.count(\"vijay\")  #It is from starting index to ending index\n",
        "print(\"occurrence of the string::\",c)"
      ],
      "execution_count": null,
      "outputs": []
    },
    {
      "cell_type": "code",
      "metadata": {
        "id": "54PpMUcriODG"
      },
      "source": [
        "#find(substring,start,end):Returns the index of first occurrence of the substring\n",
        "#if you give substring which is not present in the string ,it returns -1\n",
        "x=\"vijay is vijay\"\n",
        "c=x.find(\"vijay\")\n",
        "print(\"index:\",c)\n",
        "k=x.find(\"vijay\",5,14)\n",
        "print(\"index:\",k)\n",
        "\n",
        "z=x.find(\"jjj\")\n",
        "print(\"index:\",z)"
      ],
      "execution_count": null,
      "outputs": []
    },
    {
      "cell_type": "code",
      "metadata": {
        "id": "Mks-8I1QlRpD"
      },
      "source": [
        "#index(substring,start,end):Returns the index of the first occurrence of the substring \n",
        "#If you give substring which is not present in string,it will show an error\n",
        "\n",
        "x=\"vijay is vijay\"\n",
        "c=x.index(\"vijay\")\n",
        "print(\"index:\",c)\n",
        "c=x.index(\"vijay\",5,14)\n",
        "print(\"index:\",c)\n",
        "c=x.index(\"jjj\")  # it will show an error\n",
        "print(c)"
      ],
      "execution_count": null,
      "outputs": []
    },
    {
      "cell_type": "code",
      "metadata": {
        "id": "sN-bUkBHmfjI"
      },
      "source": [
        "#istitle():It returns TRUE if the given string in the form of title case,otherwise FALSE\n",
        "\n",
        "x=\"vijay from rkvalley\"\n",
        "print(x.istitle())\n",
        "\n",
        "y=\"Vijay From rkvalley\"\n",
        "print(y.istitle())\n",
        "\n",
        "Z=\"Vijay From Rkvalley\"\n",
        "print(Z.istitle())"
      ],
      "execution_count": null,
      "outputs": []
    },
    {
      "cell_type": "code",
      "metadata": {
        "colab": {
          "base_uri": "https://localhost:8080/"
        },
        "id": "AH-NMNZFnVym",
        "outputId": "60360f1d-bedc-4c31-d862-81df5ce614cb"
      },
      "source": [
        "#islower():It returns TRUE if all the letters of the string are  in lower case ,otherwise FALSE\n",
        "x='vijay'\n",
        "print(x.islower())\n",
        "y=\"Vijay\"\n",
        "print(y.islower())"
      ],
      "execution_count": 49,
      "outputs": [
        {
          "output_type": "stream",
          "name": "stdout",
          "text": [
            "True\n",
            "False\n"
          ]
        }
      ]
    },
    {
      "cell_type": "code",
      "metadata": {
        "id": "YQ2G5z45opkv"
      },
      "source": [
        "#isupper():It returns TRUE if all the letters of string are in uppercase,otherwise FALSE\n",
        "\n",
        "x=\"VijaY\"\n",
        "print(x.isupper())\n",
        "y=\"VIJAY\"\n",
        "print(y.isupper())\n"
      ],
      "execution_count": null,
      "outputs": []
    },
    {
      "cell_type": "code",
      "metadata": {
        "id": "zANRa0Q6o6oG"
      },
      "source": [
        ""
      ],
      "execution_count": 51,
      "outputs": []
    },
    {
      "cell_type": "code",
      "metadata": {
        "colab": {
          "base_uri": "https://localhost:8080/"
        },
        "id": "BuITHCcOpWY8",
        "outputId": "13e6c736-9466-4f6d-baa2-fdfaa60d9866"
      },
      "source": [
        "#split(delimeter):It returns the list of  words in the string based on delimeter.\n",
        "#delimeter: it may be space or comma,any special character\n",
        "#default delimeter is space\n",
        "\n",
        "x=\"hello python\"\n",
        "l=x.split()\n",
        "print(l)\n",
        "x=\"hello,python\"\n",
        "l=x.split()\n",
        "print(l)\n",
        "l=x.split(\",\")\n",
        "print(l)\n",
        "x=\"12-3-2021\"\n",
        "l=x.split(\"-\")\n",
        "print(l)\n"
      ],
      "execution_count": 57,
      "outputs": [
        {
          "output_type": "stream",
          "name": "stdout",
          "text": [
            "['hello', 'python']\n",
            "['hello,python']\n",
            "['hello', 'python']\n",
            "['12', '3', '2021']\n"
          ]
        }
      ]
    },
    {
      "cell_type": "code",
      "metadata": {
        "colab": {
          "base_uri": "https://localhost:8080/"
        },
        "id": "JOA9KclpqyYv",
        "outputId": "b105c2c0-568f-4c17-a76b-3c405cf5a0eb"
      },
      "source": [
        "#str1.join(str2):It returns the string with merging of two strings\n",
        "x=\"LEGEND\"\n",
        "x=\"-\".join(x)\n",
        "print(x)\n",
        "\n",
        "x=\"python is emerging language\"\n",
        "l=\"-\".join(x.split())\n",
        "print(l)"
      ],
      "execution_count": 61,
      "outputs": [
        {
          "output_type": "stream",
          "name": "stdout",
          "text": [
            "L-E-G-E-N-D\n",
            "python-is-emerging-language\n"
          ]
        }
      ]
    },
    {
      "cell_type": "code",
      "metadata": {
        "colab": {
          "base_uri": "https://localhost:8080/"
        },
        "id": "C8-A7XzZsuT3",
        "outputId": "d72d49c8-e50f-4afe-d271-95bc66139a92"
      },
      "source": [
        "#Partition():It partition the string based on given substring\n",
        "x=\"python is emerging language\"\n",
        "l=x.partition(\"is\")\n",
        "print(l)\n",
        "l=x.partition(\"emerging\")\n",
        "print(l)\n",
        "l=x.partition(\"python\")\n",
        "print(l)"
      ],
      "execution_count": 64,
      "outputs": [
        {
          "output_type": "stream",
          "name": "stdout",
          "text": [
            "('python ', 'is', ' emerging language')\n",
            "('python is ', 'emerging', ' language')\n",
            "('', 'python', ' is emerging language')\n"
          ]
        }
      ]
    },
    {
      "cell_type": "code",
      "metadata": {
        "id": "bU74WIvFqUxa"
      },
      "source": [
        ""
      ],
      "execution_count": null,
      "outputs": []
    }
  ]
}