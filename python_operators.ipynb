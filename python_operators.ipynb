{
  "nbformat": 4,
  "nbformat_minor": 0,
  "metadata": {
    "colab": {
      "name": "Untitled0.ipynb",
      "provenance": [],
      "authorship_tag": "ABX9TyMd9zmYanczH/y50cG+Xaag",
      "include_colab_link": true
    },
    "kernelspec": {
      "name": "python3",
      "display_name": "Python 3"
    },
    "language_info": {
      "name": "python"
    }
  },
  "cells": [
    {
      "cell_type": "markdown",
      "metadata": {
        "id": "view-in-github",
        "colab_type": "text"
      },
      "source": [
        "<a href=\"https://colab.research.google.com/github/vijay1234455/vbnvinny/blob/main/python_operators.ipynb\" target=\"_parent\"><img src=\"https://colab.research.google.com/assets/colab-badge.svg\" alt=\"Open In Colab\"/></a>"
      ]
    },
    {
      "cell_type": "code",
      "metadata": {
        "id": "ocywYYKeEUhq"
      },
      "source": [
        "'''PYTHON OPERATORS'''\n",
        "#1.Arithmetic operators\n",
        "   #Addition--->+\n",
        "   #subtraction--->-\n",
        "   #multiply----->*\n",
        "   #division---->/\n",
        "   #floor division--->//\n",
        "   #power ---->**\n",
        "   #modulus----->%"
      ],
      "execution_count": null,
      "outputs": []
    },
    {
      "cell_type": "code",
      "metadata": {
        "colab": {
          "base_uri": "https://localhost:8080/"
        },
        "id": "OKjKSL_MIEOd",
        "outputId": "72590cae-41c5-48c1-871d-8696747de044"
      },
      "source": [
        "#ADDITION\n",
        "a=2\n",
        "b=3\n",
        "print(a+b)\n",
        "a=1.7\n",
        "b=3\n",
        "print(a+b)"
      ],
      "execution_count": 2,
      "outputs": [
        {
          "output_type": "stream",
          "name": "stdout",
          "text": [
            "5\n",
            "4.7\n"
          ]
        }
      ]
    },
    {
      "cell_type": "code",
      "metadata": {
        "id": "0a1lYCBlISHl"
      },
      "source": [
        "#Subtraction\n",
        "a=5\n",
        "b=2\n",
        "print(a-b)\n",
        "a=4.5\n",
        "b=2\n",
        "print(a-b)"
      ],
      "execution_count": null,
      "outputs": []
    },
    {
      "cell_type": "code",
      "metadata": {
        "id": "IaQnK0i7IqSQ"
      },
      "source": [
        "#Multiplication\n",
        "a=2\n",
        "b=4\n",
        "print(a*b)\n",
        "a=3\n",
        "b=2.5\n",
        "print(a*b)"
      ],
      "execution_count": null,
      "outputs": []
    },
    {
      "cell_type": "code",
      "metadata": {
        "id": "E_jZkle3I7_v"
      },
      "source": [
        "#division\n",
        "a=5\n",
        "b=2\n",
        "print(a/b)\n",
        "print(b/a)"
      ],
      "execution_count": null,
      "outputs": []
    },
    {
      "cell_type": "code",
      "metadata": {
        "id": "9PmpPQwxJH5r"
      },
      "source": [
        "#floor division\n",
        "a=5\n",
        "b=2\n",
        "print(a//b)\n",
        "print(b//a)\n"
      ],
      "execution_count": null,
      "outputs": []
    },
    {
      "cell_type": "code",
      "metadata": {
        "id": "o9oLVh81JcMI"
      },
      "source": [
        "#modulus\n",
        "a=3\n",
        "b=2\n",
        "print(a%b)\n",
        "print(b%a)"
      ],
      "execution_count": null,
      "outputs": []
    },
    {
      "cell_type": "code",
      "metadata": {
        "id": "nZlEWZezJtOP"
      },
      "source": [
        "#power of number\n",
        "a=2\n",
        "b=3\n",
        "print(a**b)\n",
        "print(b**a)"
      ],
      "execution_count": null,
      "outputs": []
    },
    {
      "cell_type": "code",
      "metadata": {
        "id": "HU7b_9dVJ6h2"
      },
      "source": [
        "'''COMPARISION OPERATORS'''\n",
        "#less than-->  <\n",
        "#greater than-->  >\n",
        "#less than or equl to---> <=\n",
        "#greater than or equal to---> >=\n",
        "#equal to -----> ==\n",
        "#not equal to---> !="
      ],
      "execution_count": null,
      "outputs": []
    },
    {
      "cell_type": "code",
      "metadata": {
        "id": "x5vSZAqRKWwA"
      },
      "source": [
        "#less than\n",
        "a=3\n",
        "b=2\n",
        "print(b<a)   # it returns to the boolean value\n",
        "print(a<b)"
      ],
      "execution_count": null,
      "outputs": []
    },
    {
      "cell_type": "code",
      "metadata": {
        "id": "acNnx7DCK0oE"
      },
      "source": [
        "#greater than \n",
        "a=55\n",
        "b=33\n",
        "print(a>b)\n",
        "print(b>a)\n"
      ],
      "execution_count": null,
      "outputs": []
    },
    {
      "cell_type": "code",
      "metadata": {
        "id": "VR9fQ7JSK9rx"
      },
      "source": [
        "#equal operator\n",
        "a=44\n",
        "b=55\n",
        "c=44\n",
        "k=a\n",
        "print(a==b)\n",
        "print(b==c)\n",
        "print(k==c)\n"
      ],
      "execution_count": null,
      "outputs": []
    },
    {
      "cell_type": "code",
      "metadata": {
        "colab": {
          "base_uri": "https://localhost:8080/"
        },
        "id": "EKgndPoaLXLa",
        "outputId": "d7ad3093-66d2-4fa2-a2e0-0e773fbe027b"
      },
      "source": [
        "#not equal operator\n",
        "a=44\n",
        "b=55\n",
        "c=44\n",
        "print(a!=b)\n",
        "print(a!=c)"
      ],
      "execution_count": 24,
      "outputs": [
        {
          "output_type": "stream",
          "name": "stdout",
          "text": [
            "True\n",
            "False\n"
          ]
        }
      ]
    },
    {
      "cell_type": "code",
      "metadata": {
        "id": "nQroBZOQLnhm"
      },
      "source": [
        "'''LOGICAL OPERATORS'''\n",
        "#and-->It returns the true if both values or expressions are TRUE,otherwise it returns to FALSE\n",
        "#or--->It returns TRUE if any one of the value or expression is true,if both values are FALSE it returns FALSE\n",
        "#not--->It returns reverse of value of expression"
      ],
      "execution_count": null,
      "outputs": []
    },
    {
      "cell_type": "code",
      "metadata": {
        "colab": {
          "base_uri": "https://localhost:8080/"
        },
        "id": "HyaHpVkUMzdy",
        "outputId": "90e25663-b40b-4a7e-dfad-37ff98026b37"
      },
      "source": [
        "#AND OPERATOR\n",
        "a=2\n",
        "b=4\n",
        "print(a>0 and b>0)\n",
        "c=0\n",
        "print(a>0 and c>0)\n",
        "d=-33\n",
        "print(a>0 and d>0)"
      ],
      "execution_count": 31,
      "outputs": [
        {
          "output_type": "stream",
          "name": "stdout",
          "text": [
            "True\n",
            "False\n",
            "False\n"
          ]
        }
      ]
    },
    {
      "cell_type": "code",
      "metadata": {
        "colab": {
          "base_uri": "https://localhost:8080/"
        },
        "id": "ea8Dc9hrOnie",
        "outputId": "092eb8b0-affd-4a56-c918-009b41408227"
      },
      "source": [
        "#OR OPERATOR\n",
        "a=4\n",
        "b=5\n",
        "c=0\n",
        "d=0\n",
        "print( a>0 or b>0)\n",
        "print(a>0 or c>0)\n",
        "print(c>0 or d>0)\n"
      ],
      "execution_count": 32,
      "outputs": [
        {
          "output_type": "stream",
          "name": "stdout",
          "text": [
            "True\n",
            "True\n",
            "False\n"
          ]
        }
      ]
    },
    {
      "cell_type": "code",
      "metadata": {
        "id": "n48hMvqMPDpn"
      },
      "source": [
        "#NOT OPERATOR\n",
        "a=4\n",
        "b=5\n",
        "print( not(a>0 or b>0))\n",
        "c=0\n",
        "d=0\n",
        "print(not(c>0 or d>0))"
      ],
      "execution_count": null,
      "outputs": []
    },
    {
      "cell_type": "code",
      "metadata": {
        "id": "AzAAcb3wPsam"
      },
      "source": [
        "''' Bitwise operators:These operators are applied on bit-level'''\n",
        "#Bitwise AND\n",
        "#Bitwise OR\n",
        "#Bitwise XOR\n",
        "#Left shift operator\n",
        "#Right shift operator\n"
      ],
      "execution_count": null,
      "outputs": []
    },
    {
      "cell_type": "code",
      "metadata": {
        "id": "FTWmCphBRwsZ"
      },
      "source": [
        "#Bitwise AND Operator\n",
        "\n",
        "a=4\n",
        "b=4\n",
        "print(a&b)\n",
        "c=0\n",
        "print(a&c)\n",
        "d=8\n",
        "print(a&d)\n",
        "print(3&5)  # 0 1 0 1-----bit representation of 5\n",
        "            # 0 0 1 1----bit representation of 3\n"
      ],
      "execution_count": null,
      "outputs": []
    },
    {
      "cell_type": "code",
      "metadata": {
        "id": "6NRCzDuXTNQv"
      },
      "source": [
        "#Bitwise OR operator\n",
        "a=4\n",
        "b=5\n",
        "print(a|b)\n",
        "c=0\n",
        "d=5\n",
        "print(a|c)\n",
        "print(b|d)"
      ],
      "execution_count": null,
      "outputs": []
    },
    {
      "cell_type": "code",
      "metadata": {
        "colab": {
          "base_uri": "https://localhost:8080/"
        },
        "id": "q54a8FpxTuBn",
        "outputId": "1b125b15-ddd8-431a-b555-6b4477b5f70d"
      },
      "source": [
        "#Bitwise XOR operator\n",
        "a=4\n",
        "b=5\n",
        "c=0\n",
        "d=4\n",
        "print(a^b)\n",
        "print(a^d)\n",
        "print(b^c)"
      ],
      "execution_count": 45,
      "outputs": [
        {
          "output_type": "stream",
          "name": "stdout",
          "text": [
            "1\n",
            "0\n",
            "5\n"
          ]
        }
      ]
    },
    {
      "cell_type": "code",
      "metadata": {
        "colab": {
          "base_uri": "https://localhost:8080/"
        },
        "id": "6TO3jNvlUKiS",
        "outputId": "020425d5-30f2-4f75-80ac-f6aff01a42fd"
      },
      "source": [
        "#Left shift---> <<\n",
        "a=4\n",
        "print(a<<1)   # 0000 0100------>0000 10000\n",
        "print(a<<2)   #0000 0100-------->0001 0000\n"
      ],
      "execution_count": 48,
      "outputs": [
        {
          "output_type": "stream",
          "name": "stdout",
          "text": [
            "8\n",
            "16\n"
          ]
        }
      ]
    },
    {
      "cell_type": "code",
      "metadata": {
        "colab": {
          "base_uri": "https://localhost:8080/"
        },
        "id": "0CxsCEF1U1Lt",
        "outputId": "b6620f79-e96b-4602-a71f-2f4e059b3425"
      },
      "source": [
        "#Right shift---> >>\n",
        "a=4\n",
        "print(a>>1)\n",
        "print(a>>2)"
      ],
      "execution_count": 49,
      "outputs": [
        {
          "output_type": "stream",
          "name": "stdout",
          "text": [
            "2\n",
            "1\n"
          ]
        }
      ]
    },
    {
      "cell_type": "code",
      "metadata": {
        "colab": {
          "base_uri": "https://localhost:8080/"
        },
        "id": "Q3Jmkl2gVQK6",
        "outputId": "331ee52f-3e81-4653-e225-b5aa1e1ac400"
      },
      "source": [
        "#NOT--------> ~(tild operator)\n",
        "#It inverts all the bits,it returns the one's complement\n",
        "a=4\n",
        "print(~a)   # ~(0100)--->~(0100+1)--->~(0101)---->~(5)--> -5  "
      ],
      "execution_count": 50,
      "outputs": [
        {
          "output_type": "stream",
          "name": "stdout",
          "text": [
            "-5\n"
          ]
        }
      ]
    }
  ]
}